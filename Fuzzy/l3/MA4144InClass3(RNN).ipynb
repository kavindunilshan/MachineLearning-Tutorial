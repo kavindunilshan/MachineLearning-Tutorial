{
 "cells": [
  {
   "cell_type": "markdown",
   "id": "dda0e25f-476a-43c0-b3e7-f96a707be566",
   "metadata": {
    "deletable": false,
    "editable": false
   },
   "source": [
    "# <center>Recurrent Neural Networks</center>\n",
    "## <center>Inclass Project 3 - MA4144</center>\n",
    "\n",
    "This project contains 10 tasks/questions to be completed, some require written answers. Open a markdown cell below the respective question that require written answers and provide (type) your answers. Questions that required written answers are given in blue fonts. Almost all written questions are open ended, they do not have a correct or wrong answer. You are free to give your opinions, but please provide related answers within the context.\n",
    "\n",
    "After finishing project run the entire notebook once and **save the notebook as a pdf** (File menu -> Save and Export Notebook As -> PDF). You are **required to upload this PDF on moodle**.\n",
    "\n",
    "***"
   ]
  },
  {
   "cell_type": "markdown",
   "id": "03930b71-f7aa-4eb8-a078-70fc89a1ac16",
   "metadata": {
    "deletable": false,
    "editable": false
   },
   "source": [
    "## Outline of the project\n",
    "\n",
    "The aim of the project is to build a RNN model to suggest autocompletion of half typed words. You may have seen this in many day today applications; typing an email, a text message etc. For example, suppose you type in the four letter \"univ\", the application may suggest you to autocomplete it by \"university\".\n",
    "\n",
    "![Autocomplete](https://d33v4339jhl8k0.cloudfront.net/docs/assets/5c12e83004286304a71d5b72/images/66d0cb106eb51e63b8f9fbc6/file-gBQe016VYt.gif)\n",
    "\n",
    "We will train a RNN to suggest possible autocompletes given $3$ - $4$ starting letters. That is if we input a string \"univ\" hopefully we expect to see an output like \"university\", \"universal\" etc.\n",
    "\n",
    "For this we will use a text file (wordlist.txt) containing 10,000 common English words (you'll find the file on the moodle link). The list of words will be the \"**vocabulary**\" for our model.\n",
    "\n",
    "We will use the Python **torch library** to implement our autocomplete model. \n",
    "\n",
    "***\n"
   ]
  },
  {
   "cell_type": "markdown",
   "id": "f4db6bc0-f7e0-473d-a172-e6579deea2ee",
   "metadata": {
    "deletable": false,
    "editable": false
   },
   "source": [
    "Use the below cell to use any include any imports"
   ]
  },
  {
   "cell_type": "code",
   "execution_count": 2,
   "id": "76fdc286-3211-4a8f-9802-29d28a324bea",
   "metadata": {
    "ExecuteTime": {
     "end_time": "2024-10-14T15:48:35.784764Z",
     "start_time": "2024-10-14T15:48:14.722459Z"
    }
   },
   "outputs": [],
   "source": [
    "import torch\n",
    "import torch.nn as nn\n",
    "import torch.optim as optim\n",
    "import numpy as np\n",
    "import matplotlib.pyplot as plt\n",
    "import random"
   ]
  },
  {
   "cell_type": "markdown",
   "id": "8622b61b-dba8-47bb-8e07-92b77e78f4fa",
   "metadata": {
    "deletable": false,
    "editable": false
   },
   "source": [
    "## Section 1: Preparing the vocabulary"
   ]
  },
  {
   "cell_type": "code",
   "execution_count": 3,
   "id": "555a82e5-e56c-4075-a2a2-071633cd4d4c",
   "metadata": {
    "ExecuteTime": {
     "end_time": "2024-10-14T15:48:42.675398Z",
     "start_time": "2024-10-14T15:48:42.652366Z"
    }
   },
   "outputs": [],
   "source": [
    "WORD_SIZE = 13"
   ]
  },
  {
   "cell_type": "markdown",
   "id": "ef4f44ef-91d0-4d0e-afb5-a66240c9e1d4",
   "metadata": {
    "deletable": false,
    "editable": false
   },
   "source": [
    "**Q1.** In the following cell provide code to load the text file (each word is in a newline), then extract the words (in lowercase) into a list.\n",
    "\n",
    "For practical reasons of training the model we will only use words that are longer that $3$ letters and that have a maximum length of WORD_SIZE (this will be a constant we set at the beginning - you can change this and experiment with different WORD_SIZEs). As seen above it is set to $13$.\n",
    "\n",
    "So out of the extracted list of words filter out those words that match our criteria on word length.\n",
    "\n",
    "To train our model it is convenient to have words/strings of equal length. We will choose to convert every word to length of WORD_SIZE, by adding underscores to the end of the word if it is initially shorter than WORD_SIZE. For example, we will convert the word \"university\" (word length 10) into \"university___\" (wordlength 13). In your code include this conversion as well.\n",
    "\n",
    "Store the processed WORD_SIZE lengthed strings in a list called vocab."
   ]
  },
  {
   "cell_type": "code",
   "execution_count": 4,
   "id": "3219551c-a298-424a-a491-2d7f65a4ad6f",
   "metadata": {
    "ExecuteTime": {
     "end_time": "2024-10-14T15:50:38.220068Z",
     "start_time": "2024-10-14T15:50:38.177985Z"
    }
   },
   "outputs": [
    {
     "name": "stdout",
     "output_type": "stream",
     "text": [
      "['aaron________', 'abandoned____', 'aberdeen_____', 'abilities____', 'ability______', 'able_________', 'aboriginal___', 'abortion_____', 'about________', 'above________']\n"
     ]
    }
   ],
   "source": [
    "file_path = \"wordlist.txt\"\n",
    "min_word_length = 3\n",
    "\n",
    "def prepare_vocabulary(file_path, word_size, min_word_length):\n",
    "    with open(file_path, 'r') as file:\n",
    "        words = file.readlines()\n",
    "\n",
    "    vocab = [word.strip().lower().ljust(word_size, '_')\n",
    "             for word in words\n",
    "             if min_word_length < len(word.strip()) <= word_size]\n",
    "\n",
    "    return vocab\n",
    "\n",
    "vocab = prepare_vocabulary(file_path, WORD_SIZE, min_word_length)\n",
    "print(vocab[:10])\n"
   ]
  },
  {
   "cell_type": "markdown",
   "id": "69d3a6fe-c0a7-4808-aa1a-4c3ad6db6de3",
   "metadata": {
    "deletable": false,
    "editable": false
   },
   "source": [
    "<font color='blue'>In the above explanation it was mentioned \"for practical reasons of training the model we will only use words that are longer that $3$ letters and that have a certain maximum length\". In your opinion what could be those practical? Will hit help to build a better model?</font>"
   ]
  },
  {
   "cell_type": "markdown",
   "id": "aaf86cdd-96b2-40eb-8230-c3f04e93cfc4",
   "metadata": {},
   "source": [
    "**Answer** (to write answers edit this cell)\n",
    "\n",
    "<span style=\"color: green;\">Yes, the claim is valid. Using ordinal encoding assigns arbitrary numerical values to letters, which can misrepresent relationships between them. Embedding layers offer a better alternative by mapping letters into vectors, allowing the model to learn meaningful relationships based on context. Limiting word length also helps reduce overfitting on rare long words and lowers the number of parameters, improving the model's efficiency and performance.</span>\n"
   ]
  },
  {
   "cell_type": "markdown",
   "id": "552b2e6d-f771-4782-8b21-73c121565faa",
   "metadata": {
    "deletable": false,
    "editable": false
   },
   "source": [
    "**Q2** To input words into the model, we will need to convert each letter/character into a number. as we have seen above, the only characters in our list vocab will be the underscore and lowercase english letters. so we will convert these $27$ characters into numbers as follows: underscore -> $0$, 'a' -> $1$, 'b' -> $2$, $\\cdots$, 'z' -> $26$. In the following cell,\n",
    "\n",
    "(i) Implement a method called char_to_num, that takes in a valid character and outputs its numerical assignment.\n",
    "\n",
    "(ii) Implement a method called num_to_char, that takes in a valid number from $0$ to $26$ and outputs the corresponding character.\n",
    "\n",
    "(iii) Implement a method called word_to_numlist, that takes in a word from our vocabulary and outputs a (torch) tensor of numbers that corresponds to each character in the word in that order. For example: the word \"united_______\" will be converted to tensor([21, 14,  9, 20,  5,  4,  0,  0,  0,  0,  0,  0,  0]). You are encouraged to use your char_to_num method for this.\n",
    "\n",
    "(iv) Implement a method called numlist_to_word, that does the opposite of the above described word_to_numlist, given a tensor of numbers from $0$ to $26$, outputs the corresponding word. You are encouraged to use your  num_to_char method for this.\n",
    "\n",
    "Note: As mentioned since we are using the torch library we will be using tensors instead of the usual python lists or numpy arrays. Tensors are the list equivalent in torch. Torch models only accept tensors as input and they output tensors."
   ]
  },
  {
   "cell_type": "code",
   "execution_count": 5,
   "id": "054a4ab4-5883-4948-adc5-eb8916b6234d",
   "metadata": {
    "ExecuteTime": {
     "end_time": "2024-10-14T15:52:14.582356Z",
     "start_time": "2024-10-14T15:52:14.572376Z"
    }
   },
   "outputs": [],
   "source": [
    "def char_to_num(char):\n",
    "    if char == '_':\n",
    "        num = 0\n",
    "    else:\n",
    "        num = ord(char) - ord('a') + 1\n",
    "    return num\n",
    "\n",
    "def num_to_char(num):\n",
    "    if num == 0:\n",
    "        char = '_'\n",
    "    else:\n",
    "        char = chr(num + ord('a') - 1)\n",
    "    return char\n",
    "\n",
    "def word_to_numlist(word):\n",
    "    num_list = []\n",
    "    for char in word:\n",
    "        num_list.append(char_to_num(char))\n",
    "\n",
    "    return torch.tensor(num_list)\n",
    "\n",
    "def numlist_to_word(numlist):\n",
    "    char_list = [num_to_char(num.item()) for num in numlist]\n",
    "    word = ''.join(char_list)\n",
    "    \n",
    "    return word\n"
   ]
  },
  {
   "cell_type": "markdown",
   "id": "028d1936-fadb-4ddb-9027-3a75960aa6b1",
   "metadata": {
    "deletable": false,
    "editable": false
   },
   "source": [
    "<font color='blue'>We convert letter into just numbers based on their aphabetical order, I claim that it is a very bad way to encode data such as letters to be fed into learning models, please write your explanation to or against my claim. If you are searching for reasons, the keyword 'categorical data' may be useful. Although the letters in our case are not treated as categorical data, the same reasons as for categorical data is applicable. Even if my claim is valid, at the end it won't matter due to something called \"embedding layers\" that we will use in our model. What is an embedding layer? What is it's purpose? Explain.</font>"
   ]
  },
  {
   "cell_type": "markdown",
   "id": "65de3f69-cd06-4adc-8150-2522802f345a",
   "metadata": {},
   "source": [
    "**Answer** (to write answers edit this cell)\n",
    "\n",
    "<span style=\"color: green;\">The claim is valid. Using ordinal encoding to convert letters to numbers loses semantic relationships, as it creates an artificial order among letters that doesn't reflect their actual associations. Embedding layers solve this problem by transforming discrete inputs into dense vectors, capturing meaningful relationships between characters in a higher-dimensional space. This approach maintains the semantic meaning of the inputs and allows the model to learn patterns effectively. By positioning similar letters closer together, embedding layers avoid ordinal bias and enhance the model's understanding of context, leading to more accurate representations.</span>\n"
   ]
  },
  {
   "cell_type": "markdown",
   "id": "92070a74-0f42-435d-a3ba-b38f0d1aaf3c",
   "metadata": {
    "deletable": false,
    "editable": false
   },
   "source": [
    "## Section 2: Implementing the Autocomplete model"
   ]
  },
  {
   "cell_type": "markdown",
   "id": "6cbb965e-afcd-41ae-86f0-2f3d4682e18b",
   "metadata": {
    "deletable": false,
    "editable": false
   },
   "source": [
    "We will implement a RNN model based on LSTM. The [video tutorial](https://www.youtube.com/watch?v=tL5puCeDr-o) will be useful. Our model will be only one hidden layer, but feel free to sophisticate with more layers after the project for your own experiments.\n",
    "\n",
    "Our model will contain all the training and prediction methods as single package in a class (autocompleteModel) we will define and implement below."
   ]
  },
  {
   "cell_type": "code",
   "execution_count": 6,
   "id": "0dfe311c-669d-4d58-a833-ae3970b6d271",
   "metadata": {
    "ExecuteTime": {
     "end_time": "2024-10-14T15:52:36.814177Z",
     "start_time": "2024-10-14T15:52:36.809136Z"
    }
   },
   "outputs": [],
   "source": [
    "LEARNING_RATE = 0.005"
   ]
  },
  {
   "cell_type": "code",
   "execution_count": 7,
   "id": "4976fc91-2c4e-497a-954e-9014dd31be5e",
   "metadata": {
    "ExecuteTime": {
     "end_time": "2024-10-14T16:07:24.391774Z",
     "start_time": "2024-10-14T16:07:24.368226Z"
    }
   },
   "outputs": [],
   "source": [
    "class autocompleteModel(nn.Module):\n",
    "\n",
    "    #Constructor\n",
    "    def __init__(self, alphabet_size, embed_dim, hidden_size, num_layers):\n",
    "        super().__init__()\n",
    "\n",
    "        #Set the input parameters to self parameters\n",
    "        self.alphabet_size = alphabet_size\n",
    "        self.embed_dim = embed_dim\n",
    "        self.hidden_size = hidden_size\n",
    "        self.num_layers = num_layers\n",
    "\n",
    "        #Initialize the layers in the model:\n",
    "        #1 embedding layer, 1 - LSTM cell (hidden layer), 1 fully connected layer with linear activation\n",
    "        self.embedding = nn.Embedding(alphabet_size, embed_dim)\n",
    "        self.lstm = nn.LSTM(embed_dim, hidden_size, num_layers, batch_first=True)\n",
    "        self.fc = nn.Linear(hidden_size, alphabet_size)\n",
    "\n",
    "    #Feedforward\n",
    "    def forward(self, character, hidden_state, cell_state):\n",
    "\n",
    "        #Perform feedforward in order\n",
    "        embedded = self.embedding(character)\n",
    "        lstm_out, (hidden_state, cell_state) = self.lstm(embedded.unsqueeze(0), (hidden_state, cell_state))\n",
    "\n",
    "\n",
    "        output = self.fc(lstm_out.squeeze(0))\n",
    "\n",
    "        return output, hidden_state, cell_state\n",
    "\n",
    "\n",
    "    #Intialize the first hidden state and cell state (for the start of a word) as zero tensors of required length.\n",
    "    def initial_state(self):\n",
    "\n",
    "        batch_size=1\n",
    "        device=torch.device('cpu')\n",
    "        \n",
    "        \n",
    "        h0 = torch.zeros(self.num_layers, batch_size, self.hidden_size).to(device)\n",
    "        c0 = torch.zeros(self.num_layers, batch_size, self.hidden_size).to(device)\n",
    "\n",
    "        return (h0, c0)\n",
    "\n",
    "\n",
    "\n",
    "    #Train the model in epochs given the vocab, the training will be fed in batches of batch_size\n",
    "    def trainModel(self, vocab, epochs = 5, batch_size = 128):\n",
    "\n",
    "        #Convert the model into train mode\n",
    "        self.train()\n",
    "\n",
    "        #Set the optimizer (ADAM), you may need to provide the model parameters  and learning rate\n",
    "        optimizer = torch.optim.Adam(self.parameters(),lr=LEARNING_RATE)\n",
    "        criterion = nn.CrossEntropyLoss()\n",
    "\n",
    "        #Keep a log of the loss at the end of each training cycle.\n",
    "        loss_log = []\n",
    "\n",
    "        for e in range(epochs):\n",
    "\n",
    "\n",
    "            random.shuffle(vocab)\n",
    "            num_iter = len(vocab) // batch_size\n",
    "            \n",
    "            for i in range(num_iter):\n",
    "                vocab_batch = vocab[i * batch_size:(i+1) * batch_size]\n",
    "                optimizer.zero_grad()\n",
    "                total_loss = 0\n",
    "\n",
    "                for word in vocab_batch:\n",
    "\n",
    "                    h0, c0 = self.initial_state()\n",
    "\n",
    "                    input_tensor = word_to_numlist(word)[:-1]\n",
    "                    target_tensor = word_to_numlist(word)[1:]\n",
    "\n",
    "                    #Loop through each character (as a number) in the word\n",
    "                    for c in range(WORD_SIZE - 1):\n",
    "                        output, h0, c0 = self.forward(input_tensor[c].unsqueeze(0), h0, c0)\n",
    "                        loss = criterion(output, target_tensor[c].unsqueeze(0))\n",
    "\n",
    "                        total_loss += loss\n",
    "\n",
    "                total_loss = total_loss / (batch_size * (WORD_SIZE - 1))\n",
    "                total_loss.backward()\n",
    "\n",
    "                optimizer.step()\n",
    "\n",
    "                loss_log.append(loss.item())\n",
    "\n",
    "            print(\"Epoch: \", e)\n",
    "\n",
    "        plt.plot(loss_log)\n",
    "        plt.title('Graph of Loss vs Epochs')\n",
    "        plt.xlabel('Iterations')\n",
    "        plt.ylabel('Loss')\n",
    "        plt.show()\n",
    "\n",
    "    #Perform autocmplete given a sample of strings (typically 3-5 starting letters)\n",
    "    def autocomplete(self, sample):\n",
    "\n",
    "        #Convert the model into evaluation mode\n",
    "        self.eval()\n",
    "\n",
    "        completed_list = []\n",
    "        softmax_function = torch.nn.Softmax(dim=1)\n",
    "        \n",
    "        for literal in sample:\n",
    "            h0, c0 = self.initial_state()\n",
    "            input_sequence = word_to_numlist(literal)\n",
    "            generated_word = literal\n",
    "        \n",
    "            for j in range(len(input_sequence)):\n",
    "                output, h0, c0 = self.forward(input_sequence[j].unsqueeze(0), h0, c0)\n",
    "\n",
    "            while len(generated_word) < WORD_SIZE:\n",
    "                probabilities = softmax_function(output)\n",
    "                next_char_num = int(torch.multinomial(probabilities, 1))\n",
    "                next_char = num_to_char(next_char_num)\n",
    "            \n",
    "                if next_char == '_':\n",
    "                    break\n",
    "            \n",
    "                generated_word = generated_word + next_char\n",
    "                input_sequence = torch.tensor([next_char_num], device=output.device)\n",
    "                output, h0, c0 = self.forward(input_sequence, h0, c0)\n",
    "\n",
    "\n",
    "            completed_list.append(generated_word)\n",
    "        \n",
    "        return completed_list\n"
   ]
  },
  {
   "cell_type": "markdown",
   "id": "1f9b5489-b770-4519-b20c-4f2beebfb8f9",
   "metadata": {
    "deletable": false,
    "editable": false
   },
   "source": [
    "## Section 3: Using and evaluating the model\n",
    "\n",
    "(i) Feel free to initialize a autocompleteModel using different embedding dimensions and hidden layer sizes. Use different learning rates, epochs, batch sizes. Train the best model you can. Show the loss curves in you answers.\n",
    "\n",
    "(ii) Evaluate it on different samples of partially filled in words. Eg: [\"univ\", \"math\", \"neur\", \"engin\"] etc. Please show outputs for different samples.\n",
    "\n",
    "<font color='blue'>Comment on the results. Is it successful? Do you see familiar substrings in the generated tesxt such as \"tion\", \"ing\", \"able\" etc. What are your suggestions to improve the model?</font>"
   ]
  },
  {
   "cell_type": "markdown",
   "id": "76c9ee6e-b6bd-4e6e-95fe-2c34b788d433",
   "metadata": {},
   "source": [
    "**Answer** (to write answers edit this cell)\n",
    "\n",
    "<span style=\"color: green;\">The model shows some success in completing words, as it generates familiar patterns like \"ity\" and \"ed\". However, it sometimes produces incorrect completions, indicating that while it learns common substrings, it struggles with more complex predictions. To improve the model, enhancing the training data, applying regularization techniques, and adjusting the softmax temperature could help.</span>"
   ]
  },
  {
   "cell_type": "code",
   "execution_count": 8,
   "id": "f6e16d6b-6460-4fce-8757-aac766683e53",
   "metadata": {
    "ExecuteTime": {
     "end_time": "2024-10-14T16:36:22.993059Z",
     "start_time": "2024-10-14T16:07:31.048492Z"
    }
   },
   "outputs": [
    {
     "name": "stdout",
     "output_type": "stream",
     "text": [
      "Epoch:  0\n",
      "Epoch:  1\n",
      "Epoch:  2\n",
      "Epoch:  3\n",
      "Epoch:  4\n",
      "Epoch:  5\n",
      "Epoch:  6\n",
      "Epoch:  7\n",
      "Epoch:  8\n",
      "Epoch:  9\n"
     ]
    },
    {
     "data": {
      "image/png": "[encoded data removed]",
      "text/plain": [
       "<Figure size 640x480 with 1 Axes>"
      ]
     },
     "metadata": {},
     "output_type": "display_data"
    }
   ],
   "source": [
    "model = autocompleteModel(alphabet_size = 27, embed_dim = 128, hidden_size = 128, num_layers = 1)\n",
    "model.trainModel(vocab=vocab, epochs=10)"
   ]
  },
  {
   "cell_type": "code",
   "id": "f0a0f502e0c02fa7",
   "metadata": {
    "ExecuteTime": {
     "end_time": "2024-10-14T16:48:10.632735Z",
     "start_time": "2024-10-14T16:48:10.605123Z"
    }
   },
   "source": [
    "words_sample = [\"univ\", \"math\", \"neur\", \"engin\"]\n",
    "output_words = model.autocomplete(words_sample)\n",
    "\n",
    "print(output_words)"
   ],
   "outputs": [
    {
     "name": "stdout",
     "output_type": "stream",
     "text": [
      "['university', 'math', 'neury', 'engined']\n"
     ]
    }
   ],
   "execution_count": 36
  }
 ],
 "metadata": {
  "kernelspec": {
   "display_name": "Python 3 (ipykernel)",
   "language": "python",
   "name": "python3"
  },
  "language_info": {
   "codemirror_mode": {
    "name": "ipython",
    "version": 3
   },
   "file_extension": ".py",
   "mimetype": "text/x-python",
   "name": "python",
   "nbconvert_exporter": "python",
   "pygments_lexer": "ipython3",
   "version": "3.12.4"
  }
 },
 "nbformat": 4,
 "nbformat_minor": 5
}
