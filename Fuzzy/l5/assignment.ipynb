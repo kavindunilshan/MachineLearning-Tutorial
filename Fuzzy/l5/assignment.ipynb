{
 "cells": [
  {
   "cell_type": "code",
   "id": "2e711e63",
   "metadata": {
    "ExecuteTime": {
     "end_time": "2025-04-21T15:31:45.046961Z",
     "start_time": "2025-04-21T15:31:45.040806Z"
    }
   },
   "source": [
    "import numpy as np \n",
    "import pandas as pd\n",
    "\n",
    "import matplotlib.pyplot as plt\n",
    "import seaborn as sns"
   ],
   "outputs": [],
   "execution_count": 1
  },
  {
   "cell_type": "code",
   "id": "d9d9f3e8",
   "metadata": {
    "ExecuteTime": {
     "end_time": "2025-04-21T15:58:48.804790Z",
     "start_time": "2025-04-21T15:58:48.373554Z"
    }
   },
   "source": [
    "actual_df = pd.read_csv(\"actual.csv\")\n",
    "independent_df = pd.read_csv(\"data_set_ALL_AML_independent.csv\")\n",
    "train_df = pd.read_csv(\"data_set_ALL_AML_train.csv\")"
   ],
   "outputs": [],
   "execution_count": 2
  },
  {
   "cell_type": "code",
   "id": "151113b6",
   "metadata": {
    "ExecuteTime": {
     "end_time": "2025-04-21T15:58:53.735833Z",
     "start_time": "2025-04-21T15:58:53.728046Z"
    }
   },
   "source": [
    "actual_df = actual_df.replace({'ALL':0,'AML':1})\n",
    "labels = ['ALL', 'AML']"
   ],
   "outputs": [
    {
     "name": "stderr",
     "output_type": "stream",
     "text": [
      "C:\\Users\\ASUS\\AppData\\Local\\Temp\\ipykernel_11736\\2752396477.py:1: FutureWarning: Downcasting behavior in `replace` is deprecated and will be removed in a future version. To retain the old behavior, explicitly call `result.infer_objects(copy=False)`. To opt-in to the future behavior, set `pd.set_option('future.no_silent_downcasting', True)`\n",
      "  actual_df = actual_df.replace({'ALL':0,'AML':1})\n"
     ]
    }
   ],
   "execution_count": 3
  },
  {
   "cell_type": "code",
   "id": "d1efd83e",
   "metadata": {
    "ExecuteTime": {
     "end_time": "2025-04-21T15:58:58.994556Z",
     "start_time": "2025-04-21T15:58:58.983547Z"
    }
   },
   "source": [
    "train_to_keep = [col for col in train_df.columns if \"call\" not in col]\n",
    "test_to_keep = [col for col in independent_df.columns if \"call\" not in col]\n",
    "\n",
    "X_train_tr = train_df[train_to_keep]\n",
    "X_test_tr = independent_df[test_to_keep]"
   ],
   "outputs": [],
   "execution_count": 4
  },
  {
   "cell_type": "code",
   "id": "f0d3a26c",
   "metadata": {
    "ExecuteTime": {
     "end_time": "2025-04-21T15:59:03.160947Z",
     "start_time": "2025-04-21T15:59:03.103330Z"
    }
   },
   "source": [
    "train_columns_titles = ['Gene Description', 'Gene Accession Number', '1', '2', '3', '4', '5', '6', '7', '8', '9', '10',\n",
    "       '11', '12', '13', '14', '15', '16', '17', '18', '19', '20', '21', '22', '23', '24', '25', \n",
    "       '26', '27', '28', '29', '30', '31', '32', '33', '34', '35', '36', '37', '38']\n",
    "\n",
    "test_columns_titles = ['Gene Description', 'Gene Accession Number','39', '40', '41', '42', '43', '44', '45', '46',\n",
    "       '47', '48', '49', '50', '51', '52', '53',  '54', '55', '56', '57', '58', '59',\n",
    "       '60', '61', '62', '63', '64', '65', '66', '67', '68', '69', '70', '71', '72']\n",
    "\n",
    "\n",
    "X_train_tr = X_train_tr.reindex(columns=train_columns_titles)\n",
    "X_test_tr = X_test_tr.reindex(columns=test_columns_titles)\n",
    "\n",
    "X_train = X_train_tr.T\n",
    "X_test = X_test_tr.T"
   ],
   "outputs": [],
   "execution_count": 5
  },
  {
   "cell_type": "code",
   "id": "e1ca3740",
   "metadata": {
    "ExecuteTime": {
     "end_time": "2025-04-21T15:59:11.044252Z",
     "start_time": "2025-04-21T15:59:08.629281Z"
    }
   },
   "source": [
    "X_train.columns = X_train.iloc[1]\n",
    "X_train = X_train.drop([\"Gene Description\", \"Gene Accession Number\"]).apply(pd.to_numeric)\n",
    "\n",
    "X_test.columns = X_test.iloc[1]\n",
    "X_test = X_test.drop([\"Gene Description\", \"Gene Accession Number\"]).apply(pd.to_numeric)"
   ],
   "outputs": [],
   "execution_count": 6
  },
  {
   "cell_type": "code",
   "id": "9182f82b",
   "metadata": {
    "ExecuteTime": {
     "end_time": "2025-04-21T15:59:15.529086Z",
     "start_time": "2025-04-21T15:59:15.515039Z"
    }
   },
   "source": [
    "X_train = X_train.reset_index(drop=True)\n",
    "y_train = actual_df[actual_df.patient <= 38].reset_index(drop=True)\n",
    "\n",
    "X_test = X_test.reset_index(drop=True)\n",
    "y_test = actual_df[actual_df.patient > 38].reset_index(drop=True)"
   ],
   "outputs": [],
   "execution_count": 7
  },
  {
   "cell_type": "code",
   "id": "d2795460",
   "metadata": {
    "ExecuteTime": {
     "end_time": "2025-04-21T15:59:23.848454Z",
     "start_time": "2025-04-21T15:59:22.794248Z"
    }
   },
   "source": [
    "from sklearn.linear_model import LogisticRegression\n",
    "from sklearn.metrics import classification_report, confusion_matrix, ConfusionMatrixDisplay\n",
    "import matplotlib.pyplot as plt\n",
    "import seaborn as sns\n",
    "\n",
    "# Fit the logistic regression model\n",
    "log_reg = LogisticRegression(max_iter=1000, random_state=0)\n",
    "log_reg.fit(X_train, y_train.iloc[:, 1])\n",
    "\n",
    "# Predict on test data\n",
    "y_pred_lr = log_reg.predict(X_test)\n",
    "\n",
    "# Evaluate performance\n",
    "print(\"Classification Report:\\n\")\n",
    "print(classification_report(y_test.iloc[:, 1], y_pred_lr, target_names=['ALL', 'AML']))\n",
    "\n",
    "# Confusion matrix\n",
    "cm = confusion_matrix(y_test.iloc[:, 1], y_pred_lr, labels=[0, 1])\n",
    "sns.heatmap(cm, annot=True, fmt='d', cmap='Blues', xticklabels=['ALL', 'AML'], yticklabels=['ALL', 'AML'])\n",
    "plt.xlabel(\"Predicted Label\")\n",
    "plt.ylabel(\"True Label\")\n",
    "plt.title(\"Confusion Matrix - Logistic Regression\")\n",
    "plt.show()\n"
   ],
   "outputs": [
    {
     "name": "stdout",
     "output_type": "stream",
     "text": [
      "Classification Report:\n",
      "\n",
      "              precision    recall  f1-score   support\n",
      "\n",
      "         ALL       1.00      0.90      0.95        20\n",
      "         AML       0.88      1.00      0.93        14\n",
      "\n",
      "    accuracy                           0.94        34\n",
      "   macro avg       0.94      0.95      0.94        34\n",
      "weighted avg       0.95      0.94      0.94        34\n",
      "\n"
     ]
    },
    {
     "data": {
      "text/plain": [
       "<Figure size 640x480 with 2 Axes>"
      ],
      "image/png": "[encoded data removed]"
     },
     "metadata": {},
     "output_type": "display_data"
    }
   ],
   "execution_count": 8
  },
  {
   "cell_type": "code",
   "id": "b9fc70bb",
   "metadata": {
    "ExecuteTime": {
     "end_time": "2025-04-21T15:59:32.513412Z",
     "start_time": "2025-04-21T15:59:32.491848Z"
    }
   },
   "source": [
    "import pandas as pd\n",
    "coefficients = log_reg.coef_[0]\n",
    "feature_names = X_train.columns\n",
    "coef_df = pd.DataFrame({'Gene': feature_names, 'Coefficient': coefficients})\n",
    "\n",
    "\n",
    "coef_df['AbsCoeff'] = coef_df['Coefficient'].abs()\n",
    "top_genes_lr = coef_df.sort_values(by='AbsCoeff', ascending=False).head(10)\n",
    "\n",
    "print(\"Top 10 Most Influential Genes in Logistic Regression:\")\n",
    "print(top_genes_lr[['Gene', 'Coefficient']])\n"
   ],
   "outputs": [
    {
     "name": "stdout",
     "output_type": "stream",
     "text": [
      "Top 10 Most Influential Genes in Logistic Regression:\n",
      "                Gene  Coefficient\n",
      "6200     Y00787_s_at     0.000216\n",
      "1881       M27891_at     0.000189\n",
      "1673       M11147_at     0.000184\n",
      "2401  M96326_rna1_at     0.000172\n",
      "6208     Z19554_s_at     0.000161\n",
      "2185       M69043_at     0.000159\n",
      "5709     M25079_s_at     0.000159\n",
      "1778       M19507_at     0.000156\n",
      "1393       L20941_at     0.000140\n",
      "5551     L06797_s_at    -0.000139\n"
     ]
    }
   ],
   "execution_count": 9
  },
  {
   "metadata": {},
   "cell_type": "code",
   "outputs": [],
   "execution_count": null,
   "source": "",
   "id": "b60e9ee8b8e47c9f"
  }
 ],
 "metadata": {
  "kernelspec": {
   "display_name": "Python 3",
   "language": "python",
   "name": "python3"
  },
  "language_info": {
   "codemirror_mode": {
    "name": "ipython",
    "version": 3
   },
   "file_extension": ".py",
   "mimetype": "text/x-python",
   "name": "python",
   "nbconvert_exporter": "python",
   "pygments_lexer": "ipython3",
   "version": "3.12.0"
  }
 },
 "nbformat": 4,
 "nbformat_minor": 5
}
