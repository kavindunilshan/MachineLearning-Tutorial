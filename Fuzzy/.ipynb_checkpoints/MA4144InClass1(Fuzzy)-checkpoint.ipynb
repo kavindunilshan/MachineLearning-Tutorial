{
 "cells": [
  {
   "cell_type": "markdown",
   "id": "838853bf-3129-40fe-9dc9-bae36cc6c212",
   "metadata": {
    "deletable": false,
    "editable": false,
    "slideshow": {
     "slide_type": ""
    },
    "tags": []
   },
   "source": [
    "# <center>Fuzzy Clustering</center>\n",
    "## <center>Inclass Project 1 - MA4144</center>\n",
    "\n",
    "This project contains 9 tasks/questions to be completed, some require written answers. Open markdow cell below the respective question that require written answers and provide (type) your answers. Questions that required written answers are given in blue fonts. Almost all written questions are open ended, they do not have a correct or wrong answer. You are free to give your opinions, but please provide related answers within the context.\n",
    "\n",
    "After finishing project run the entire notebook once and **save the notebook as a pdf** (File menu -> Save and Export Notebook As -> PDF). You are **required to upload this PDF on moodle**."
   ]
  },
  {
   "cell_type": "markdown",
   "id": "0b093dca-8f94-48a3-a27c-be7eac12798a",
   "metadata": {
    "deletable": false,
    "editable": false
   },
   "source": [
    "Use this cell to use any include any imports"
   ]
  },
  {
   "cell_type": "code",
   "execution_count": 80,
   "id": "525ae013-5a23-455f-a8bb-ea48d970378a",
   "metadata": {},
   "outputs": [],
   "source": [
    "import pandas as pd\n",
    "import numpy as np\n",
    "import matplotlib.pyplot as plt"
   ]
  },
  {
   "cell_type": "markdown",
   "id": "748e844d-c3ec-4a26-b418-8ce00346bb8a",
   "metadata": {
    "deletable": false,
    "editable": false,
    "slideshow": {
     "slide_type": ""
    },
    "tags": []
   },
   "source": [
    "**Q1.** In the following cell load the data (in the file SMDataRefined.csv) to a pandas dataframe, and display the data. Then get the data into a numpy matrix $X$, each row corresponding to a datapoint and each column to a feature, in our case whether a certain token exists ($1$) or not ($0$). Let us denote the number of rows of $X$ by $N$ and the number of columns by $M$.\n",
    "\n",
    "**About the dataset**: Each row in the dataset refers to a social media post. The first column refers to the number of likes received by each post (standardized between to the interval $[0, 1]$), the columns after that will denote the presence of a certain word (token) in the text of the post. For example, a $1$ in the column \"TextToken_life\" denotes that the particular post contained the word \"life\" in it and $0$ otherwise. These will be the features of our dataset. Our aim is to cluster these social media posts based on number of likes and words contained in it."
   ]
  },
  {
   "cell_type": "code",
   "execution_count": null,
   "id": "74032883-8174-47a9-95d6-685d2ddad855",
   "metadata": {},
   "outputs": [],
   "source": []
  },
  {
   "cell_type": "markdown",
   "id": "efefe30c-166f-435c-a4ae-8dbac00392c1",
   "metadata": {
    "deletable": false,
    "editable": false
   },
   "source": [
    "**Q2.** In the following cell create a new function named $\\textrm{initMu}$, that takes in two parameters $\\textrm{npoints}$ and $\\textrm{nclusters}$ and outputs the membership matrix for $\\textrm{npoints}$ number of data points and $\\textrm{nclusters}$ number of clusters. Recall from the lecture that the membership matrix $U$ of dimension $N \\times c$ has the following properties.\n",
    "\n",
    "1. $0 \\leq u_{ij} \\leq 1$\n",
    "2. $\\sum\\limits_{j = 1}^{c}u_{ij} = 1$ for all $i = 1,2, \\cdots, N$\n",
    "\n",
    "You can do a random initialization. Here $\\textrm{npoints} = N$ and $\\textrm{nclusters} = c$."
   ]
  },
  {
   "cell_type": "code",
   "execution_count": 3,
   "id": "a9a7c529-f4bf-4ae2-8a64-bc203af937fb",
   "metadata": {},
   "outputs": [],
   "source": [
    "def initMu(npoints, nclusters):\n",
    "    #TODO fill in the code\n",
    "    return"
   ]
  },
  {
   "cell_type": "markdown",
   "id": "c1092e04-d846-4ea1-9ebc-44a369a5b3c5",
   "metadata": {
    "deletable": false,
    "editable": false
   },
   "source": [
    "**Q3.** In the following cell create a function named $\\textrm{calculateCenters}$ that computes and returns centers $v_j$, $j = 1, 2, \\cdots, c$ (as $c \\times M$ matrix) given the data matrix $X$ and the membership matrix $U$. Recall the following update formula for $v_j$ from the lectures.\n",
    "\n",
    "$v_j = \\frac{\\sum\\limits_{i = 1}^N {\\left( \\frac{u_{ij}}{u_{max}} \\right)}^{m_1} x_i}{\\sum\\limits_{i = 1}^N {\\left( \\frac{u_{ij}}{u_{max}} \\right)}^{m_1}}$\n",
    "\n",
    "Here $u_{max} = max \\left(u_{1j}, u_{2j}, \\cdots, u_{Nj} \\right)$ and $m_1 \\in [1, \\infty)$ is a hyperparameter we discussed in class, and will be passed in as a parameter to the function.\n",
    "\n",
    "The most efficient way to do this computation is by matrix multiplications. Try to find the appropriate matrix multiplication. You may need to transpose certain matrices."
   ]
  },
  {
   "cell_type": "code",
   "execution_count": 5,
   "id": "71f299a8-4c56-4cf3-a0de-f9e2786c9ec1",
   "metadata": {},
   "outputs": [],
   "source": [
    "def calculateCenters(X, U, m):\n",
    "    #TODO fill in the code\n",
    "    return"
   ]
  },
  {
   "cell_type": "markdown",
   "id": "0a98c661-89c7-485d-a790-90d316ed1309",
   "metadata": {
    "deletable": false,
    "editable": false
   },
   "source": [
    "**Q4.** In the following cell create a function named $\\textrm{updateMu}$ that updates the membership matrix $U$ given the data matrix $X$ and the $\\textrm{centers}$. Recall the following update formula for $u_{ij}$ from the lectures.\n",
    "\n",
    "$u_{ij} = {\\left[ \\sum\\limits_{l = 1}^c { \\left( \\frac{d_{ij}}{d_{il}} \\right)}^{\\frac{2}{m_2 - 1}} \\right]}^{-1}$\n",
    "where $d_{ij}$ is the distance between the $i$th data point and the $j$th cluster center. $m_2 \\in (1, \\infty)$ is another hyperparameter that is passed into the function.\n",
    "\n",
    "To compute distances sklearn.metrics.pairwise.pairwise_distances could be useful. For these computations, try to avoid for loops as much as possible and use the tools offered by numpy for matrix manipulations for example such as numpy.tile.\n",
    "\n",
    "The function should finally return the updated $U$ matrix."
   ]
  },
  {
   "cell_type": "code",
   "execution_count": 6,
   "id": "c7dadcdb-1267-4b66-858d-ef16caf7b309",
   "metadata": {},
   "outputs": [],
   "source": [
    "def updateMu(X, centers, m):\n",
    "    #TODO fill in the code\n",
    "    return"
   ]
  },
  {
   "cell_type": "markdown",
   "id": "cb3457f2-2d2d-4d01-b532-4bf2650d9536",
   "metadata": {
    "deletable": false,
    "editable": false
   },
   "source": [
    "**Q5.** Use following cell to create a function called $\\textrm{fuzzyClustering}$ that takes in a data matrix $X$ the number of clusters $\\textrm{nclusters}$, $m_1$, $m_2$ hyperparameters and then returns a membership matrix $U$ and nclusters number of centers for each cluster as a matrix whose rows will correspond to the centers. Recall that the fuzzy clustering algorithm,\n",
    "\n",
    "1. Initialize the membership matrix $U$\n",
    "Repeat the following steps while max iterations (maxIter) reached or change in norm of $U$ is greater than a specified tolerance (tol).\n",
    "2. Compute cluster centers\n",
    "3. Update membership matrix\n",
    "\n",
    "The function you create should be able to compute the norm between the $U$ matrices from consecutive iterations and plot a graph depicting the variation of the change in norm of $U$ against the number of iterations. "
   ]
  },
  {
   "cell_type": "code",
   "execution_count": 9,
   "id": "ca0b707a-4b0e-45ac-974b-958bf6345aef",
   "metadata": {},
   "outputs": [],
   "source": [
    "def fuzzyClustering(X, m1, m2, nclusters, maxiter = 50, tol = 10**(-5)):\n",
    "    #TODO fill in the code\n",
    "    return\n"
   ]
  },
  {
   "cell_type": "markdown",
   "id": "20e88b89-02ce-40ac-9469-3ac147c5f0da",
   "metadata": {
    "deletable": false,
    "editable": false
   },
   "source": [
    "**Q6.** Run the fuzzyClasssification algorithm with different hyperparameters $m_1, m_2, \\textrm{nclusters}$, note the plot of $U$-norm difference against the number of iterations. <font color='blue'>What can you say about it?</font>\n",
    "\n",
    "Now lets use the fuzzy membership to find some crisp cluster labelling $\\textrm{yfuzzy}$ to for each data point. For a given datapoint you'll assign the cluster labelling by looking at which cluster assigns the largest membership value. numpy.argmax function would be useful in this case. Again avoid for loops. "
   ]
  },
  {
   "cell_type": "code",
   "execution_count": null,
   "id": "1d2c2e31-2aa2-40ca-b133-45aa528ac40c",
   "metadata": {},
   "outputs": [],
   "source": [
    "#TODO fill in the code"
   ]
  },
  {
   "cell_type": "markdown",
   "id": "67e828b0-f2fd-490e-afc9-c1fae858cc58",
   "metadata": {
    "deletable": false,
    "editable": false
   },
   "source": [
    "**Q7.** The Silhoutte score is a measure of how well the clustering has been done, the closer the score to $1.0$ the better the clustering. Refer to sklearn.metrics.silhouette_score. Determine the best choice of hyperparameters $m_1, m_2, \\textrm{nclusters}$ through a grid search based on the silhoutte score as the evaluation metric. <font color='blue'>Report the best combination of hyperparameters.</font> For the grid search try $m_1 = 1.0, 1.2, \\cdots, 3.0$, $m_2 = 1.2, 1.4, \\cdots, 3.0$, $\\textrm{nclusters} = 2, 3, \\cdots, 15$."
   ]
  },
  {
   "cell_type": "code",
   "execution_count": null,
   "id": "fddd16fc-9251-4f67-8d5c-a969fffb4c92",
   "metadata": {},
   "outputs": [],
   "source": [
    "#TODO fill in the code"
   ]
  },
  {
   "cell_type": "markdown",
   "id": "2596898b-f7a6-4f88-9a6a-0c7037c9d6e6",
   "metadata": {
    "deletable": false,
    "editable": false
   },
   "source": [
    "**Q8.** For the best combination of hyperparameters run the following visualization function with different values for $0 \\leq f_1 < f_2 < \\textrm{nclusters}$. <font color='blue'>What do you see? Explain the purpose of the code and what you would expect through this?</font>"
   ]
  },
  {
   "cell_type": "code",
   "execution_count": 8,
   "id": "3431b7fa-550b-4a09-a7c4-6935a5954f08",
   "metadata": {
    "deletable": false,
    "editable": false
   },
   "outputs": [],
   "source": [
    "def visualizeClusters2D(X, y, f1, f2):\n",
    "    colorlist = ['black', 'gray', 'red', 'sienna', 'green', 'blue', 'gold', 'darkorange', 'olive', 'lavendar', 'salmon', 'teal', 'pink', 'magenta', 'tan', 'wheat']\n",
    "\n",
    "    for i in range(8):\n",
    "        plt.scatter(X[yfuzzy == i, f1], X[yfuzzy == i, f2], color = colorlist[i])\n",
    "\n",
    "    plt.show()\n"
   ]
  },
  {
   "cell_type": "code",
   "execution_count": null,
   "id": "2974c285-c18e-4c80-b8d1-710bfd4bd05b",
   "metadata": {},
   "outputs": [],
   "source": [
    "#TODO fill in the code"
   ]
  },
  {
   "cell_type": "markdown",
   "id": "29a012d1-a545-4c10-a3a1-b79406853a73",
   "metadata": {
    "deletable": false,
    "editable": false,
    "slideshow": {
     "slide_type": ""
    },
    "tags": []
   },
   "source": [
    "**Q9.** Load (to a pandas dataframe) the actual dataset (SMData.csv) from which the previous dataset was cleaned out. Match each entry in this dataset with the labels you found out through clustering using the best combination of hyperparameters. Go through a few of those clustered entries and notice any patterns (or common sentiment) in the text (the \"Text\" column of this dataset) of each entry within clusters vs outside the clusters. The label of the $i$th entry in the dataset $= \\textrm{yfuzzy}[i]$. <font color='blue'>Explain any observations. Based on your observations, is the clustering successful?</font>"
   ]
  },
  {
   "cell_type": "code",
   "execution_count": null,
   "id": "282743d7-97bd-4277-a05f-fe5c3c200fc0",
   "metadata": {},
   "outputs": [],
   "source": [
    "#TODO fill in the code"
   ]
  }
 ],
 "metadata": {
  "kernelspec": {
   "display_name": "Python 3 (ipykernel)",
   "language": "python",
   "name": "python3"
  },
  "language_info": {
   "codemirror_mode": {
    "name": "ipython",
    "version": 3
   },
   "file_extension": ".py",
   "mimetype": "text/x-python",
   "name": "python",
   "nbconvert_exporter": "python",
   "pygments_lexer": "ipython3",
   "version": "3.10.7"
  }
 },
 "nbformat": 4,
 "nbformat_minor": 5
}
