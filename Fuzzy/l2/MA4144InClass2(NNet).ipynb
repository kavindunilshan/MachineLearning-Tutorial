{
 "cells": [
  {
   "cell_type": "markdown",
   "id": "56157fb7-11e7-4151-8a9c-e95c4a844924",
   "metadata": {
    "deletable": false,
    "editable": false
   },
   "source": [
    "# <center>Feedforward and Backpropagation</center>\n",
    "## <center>Inclass Project 2 - MA4144</center>\n",
    "\n",
    "This project contains 10 tasks/questions to be completed, some require written answers. Open a markdown cell below the respective question that require written answers and provide (type) your answers. Questions that required written answers are given in blue fonts. Almost all written questions are open ended, they do not have a correct or wrong answer. You are free to give your opinions, but please provide related answers within the context.\n",
    "\n",
    "After finishing project run the entire notebook once and **save the notebook as a pdf** (File menu -> Save and Export Notebook As -> PDF). You are **required to upload this PDF on moodle**.\n",
    "\n",
    "***"
   ]
  },
  {
   "attachments": {},
   "cell_type": "markdown",
   "id": "37c45f68-8516-4bd3-80b3-fa38c9fc01bf",
   "metadata": {
    "deletable": false,
    "editable": false
   },
   "source": [
    "## Outline of the project\n",
    "\n",
    "The aim of the project is to build a Multi Layer perceptron (MLP) model from scratch for binary classification. That is given an input $x$ output the associated class label $0$ or $1$.\n",
    "\n",
    "In particular, we will classify images of handwritten digits ($0, 1, 2, \\cdots, 9$). For example, given a set of handwritten digit images that only contain two digits (Eg: $1$ and $5$) the model will classify the images based on the written digit.\n",
    "\n",
    "For this we will use the MNIST dataset (collection of $28 \\times 28$ images of handwritten digits) - you can find additional information about MNIST [here](https://en.wikipedia.org/wiki/MNIST_database).\n",
    "\n",
    "<img src=\"https://upload.wikimedia.org/wikipedia/commons/f/f7/MnistExamplesModified.png\" width=\"250\">\n",
    "\n",
    "***\n"
   ]
  },
  {
   "cell_type": "markdown",
   "id": "ba8a0988-42a0-4e8f-abf5-2bc3ddf18304",
   "metadata": {
    "deletable": false,
    "editable": false
   },
   "source": [
    "Use the below cell to use any include any imports"
   ]
  },
  {
   "cell_type": "code",
   "execution_count": 18,
   "id": "aac8649a-c1fe-4236-8ebd-ce3faa43ee3b",
   "metadata": {
    "ExecuteTime": {
     "end_time": "2024-09-17T17:04:04.529748Z",
     "start_time": "2024-09-17T17:04:04.036105Z"
    }
   },
   "outputs": [],
   "source": [
    "import numpy as np\n",
    "from keras.datasets import mnist\n",
    "import matplotlib.pyplot as plt\n",
    "from sklearn.metrics import accuracy_score\n",
    "from tqdm import tqdm\n",
    "from sklearn.metrics import confusion_matrix\n",
    "import seaborn as sns\n",
    "import pandas as pd"
   ]
  },
  {
   "cell_type": "markdown",
   "id": "e64c6025-f0e5-440e-ab25-fb22393f186c",
   "metadata": {
    "deletable": false,
    "editable": false
   },
   "source": [
    "## Section 1: Preparing the data"
   ]
  },
  {
   "cell_type": "code",
   "execution_count": 27,
   "id": "41a0c01b-d4ce-47c6-ad39-80ea85a59543",
   "metadata": {
    "ExecuteTime": {
     "end_time": "2024-09-17T17:35:50.715125Z",
     "start_time": "2024-09-17T17:35:50.482486Z"
    }
   },
   "outputs": [
    {
     "name": "stdout",
     "output_type": "stream",
     "text": [
      "(60000, 28, 28)\n",
      "(10000, 28, 28)\n",
      "(60000,)\n",
      "(10000,)\n"
     ]
    }
   ],
   "source": [
    "#Load the dataset as training and testing, then print out the shapes of the data matrices\n",
    "\n",
    "(train_X, train_y), (test_X, test_y) = mnist.load_data()\n",
    "print(train_X.shape)\n",
    "print(test_X.shape)\n",
    "print(train_y.shape)\n",
    "print(test_y.shape)"
   ]
  },
  {
   "cell_type": "markdown",
   "id": "1135bf15-9a80-4d14-8fb4-e30c9e53a4cf",
   "metadata": {
    "deletable": false,
    "editable": false
   },
   "source": [
    "**Q1.** In the following cell write code to display $5$ random images in train_X and it's corresponding label in train_y. Each time it is run, you should get a different set of images. The imshow function in the matplotlib library could be useful. Display them as [grayscale images](https://en.wikipedia.org/wiki/Grayscale)."
   ]
  },
  {
   "cell_type": "code",
   "execution_count": 28,
   "id": "dad09af0-90d7-4590-922e-d114755455a4",
   "metadata": {
    "ExecuteTime": {
     "end_time": "2024-09-17T17:36:19.135850Z",
     "start_time": "2024-09-17T17:36:18.859846Z"
    }
   },
   "outputs": [
    {
     "data": {
      "image/png": "[encoded data removed]",
      "text/plain": [
       "<Figure size 1000x500 with 5 Axes>"
      ]
     },
     "metadata": {},
     "output_type": "display_data"
    }
   ],
   "source": [
    "random_indices = np.random.choice(train_X.shape[0], 5, replace=False)\n",
    "\n",
    "# Plot 5 random images\n",
    "plt.figure(figsize=(10, 5))\n",
    "for i, idx in enumerate(random_indices):\n",
    "    plt.subplot(1, 5, i+1)\n",
    "    plt.imshow(train_X[idx], cmap='gray')\n",
    "    plt.title(f'Label: {train_y[idx]}')\n",
    "    plt.axis('off')\n",
    "\n",
    "plt.show()"
   ]
  },
  {
   "cell_type": "markdown",
   "id": "580fd94a-370c-468b-ba0f-01c2506d4810",
   "metadata": {
    "deletable": false,
    "editable": false
   },
   "source": [
    "**Q2.** Given two digits $d_1$ and $d_2$, both between $0$ and $9$, in the following cell fill in the function body to extract all the samples corresponding to $d_1$ or $d_2$ only, from the dataset $X$ and labels $y$. You can use the labels $y$ to filter the dataset. Assume that the $i$th image $X[i]$ in $X$ is given by $y[i]$. The function should return the extracted samples $X_{extracted}$ and corresponding labels $y_{extracted}$. Avoid using for loops as much as possible, infact you do not need any for loops. numpy.where function should be useful."
   ]
  },
  {
   "cell_type": "code",
   "execution_count": 29,
   "id": "8cd468f8-f28e-405d-aa0a-ac97470615f2",
   "metadata": {
    "ExecuteTime": {
     "end_time": "2024-09-17T17:36:35.081292Z",
     "start_time": "2024-09-17T17:36:35.076666Z"
    }
   },
   "outputs": [],
   "source": [
    "def extract_digits(X, y, d1, d2):\n",
    "\n",
    "    assert d1 in range(0, 10), \"d1 should be a number between 0 and 9 inclusive\"\n",
    "    assert d2 in range(0, 10), \"d2 should be a number between 0 and 9 inclusive\"\n",
    "\n",
    "    # Find the indices of the samples with labels d1 or d2\n",
    "    indices = np.where((y == d1) | (y == d2))\n",
    "\n",
    "    # Extract the samples with labels d1 or d2\n",
    "    X_extracted = X[indices]\n",
    "    y_extracted = y[indices]\n",
    "\n",
    "    return (X_extracted, y_extracted)"
   ]
  },
  {
   "attachments": {},
   "cell_type": "markdown",
   "id": "29123736-f5a7-4981-afd8-cdb69bae3f7d",
   "metadata": {
    "deletable": false,
    "editable": false
   },
   "source": [
    "**Q3.** Both the training dataset train_X and test_y is a 3 dimensional numpy array, each image occupies 2 dimensions. For convenience of processing data we usually comvert each $28 \\times 28$ image matrix to a vector with $784$ entries. We call this process **vectorize images**.\n",
    "\n",
    "Once we vectorize the images, the vectorized data set would be structured as follows: $i$th row will correspond to a single image and $j$th column will correspond to the $j$th pixel value of each vectorized image. However going along with the convention we discussed in the lecture, the input to the MLP model will require that the columns correspond to individual images. Hence we also require a transpose of the vectorized results.\n",
    "\n",
    "The pixel values in the images will range from $0$ to $255$. Normalize the pixel values between $0$ and $1$, by dividing each pixel value of each image by the maximum pixel value of that image. Simply divide each column of the resulting matrix above by the max of each column. \n",
    "\n",
    "<center><img src=\"https://encrypted-tbn0.gstatic.com/images?q=tbn:ANd9GcTdN_8m9FEqjqAB07obTmB6gNc7S2rSoGBYaA&s\"></center>\n",
    "\n",
    "Given a dataset $X$ of size $N \\times 28 \\times 28$, in the following cell fill in the function to do the following in order;\n",
    "1. Vectorize the dataset resulting in dataset of size $N \\times 784$.\n",
    "2. Transpose the vectorized result.\n",
    "3. Normalize the pixel values of each image.\n",
    "4. Finally return the vectorized, transposed and normalized dataset $X_{transformed}$.\n",
    "\n",
    "Again, avoid for loops, functions such as numpy.reshape, numpy.max etc should be useful."
   ]
  },
  {
   "cell_type": "code",
   "execution_count": 30,
   "id": "eb50027a-5a36-4279-9972-a2bf449bef3d",
   "metadata": {
    "ExecuteTime": {
     "end_time": "2024-09-17T17:36:53.438339Z",
     "start_time": "2024-09-17T17:36:53.433115Z"
    }
   },
   "outputs": [],
   "source": [
    "def vectorize_images(X):\n",
    "\n",
    "    # vectorize the images\n",
    "    X_vectorized = X.reshape((X.shape[0], X.shape[1]*X.shape[2]))\n",
    "\n",
    "    # transpose the vectorized result\n",
    "    X_vectorized = X_vectorized.T\n",
    "\n",
    "    # find the maximum pixel value of each image\n",
    "    pi_max = np.max(X_vectorized, axis=0)\n",
    "\n",
    "    # normalize the pixel values of each image    \n",
    "    X_vectorized = X_vectorized/pi_max\n",
    "\n",
    "    return(X_vectorized)"
   ]
  },
  {
   "cell_type": "markdown",
   "id": "fbc428f8-0eec-4eb2-9df2-53cd924c9c9d",
   "metadata": {
    "deletable": false,
    "editable": false
   },
   "source": [
    "**Q4.** In the following cell write code to;\n",
    "\n",
    "1. Extract images of the digits $d_1 = 1$ and $d_2 = 5$ with their corresponding labels for both the training set (train_X, train_y) and testing set (test_X, test_y) separately.\n",
    "2. Then vectorize the data, tranpose the result and normlize the images.\n",
    "3. Store the results after the final transformations in numpy arrays train_X_1_5, train_y_1_5, test_X_1_5, test_y_1_5\n",
    "4. Our MLP will output only class labels $0$ and $1$ (not $1$ and $5$), so create numpy arrays to store the class labels as follows:\n",
    "   $d_1 = 1$ -> class label = 0 and $d_2 = 5$ -> class label = 1. Store them in the arrays named train_class_1_5, test_class_1_5.\n",
    "\n",
    "Use the above functions you implemented above to complete this task. In addtion, numpy.where could be useful. Avoid for loops as much as possible."
   ]
  },
  {
   "cell_type": "code",
   "execution_count": 31,
   "id": "da43c8d283215d11",
   "metadata": {
    "ExecuteTime": {
     "end_time": "2024-09-17T17:37:01.959931Z",
     "start_time": "2024-09-17T17:37:01.908556Z"
    }
   },
   "outputs": [],
   "source": [
    "# Extract images of digits 1 and 5 from both training and testing sets\n",
    "train_X_ext, train_y_ext =  extract_digits(train_X, train_y, d1=1, d2=5)\n",
    "test_X_ext, test_y_ext =  extract_digits(test_X, test_y, d1=1, d2=5)\n",
    "\n",
    "# Vectorize the data, transpose the result and normalize the images.\n",
    "train_X_1_5, train_y_1_5 = vectorize_images(train_X_ext), train_y_ext\n",
    "test_X_1_5, test_y_1_5 = vectorize_images(test_X_ext), test_y_ext\n",
    "\n",
    "# Step 3: Store the results after the final transformations\n",
    "train_class_1_5 = np.where(train_y_1_5 > 1,1,0)\n",
    "test_class_1_5 = np.where(test_y_1_5 > 1,1,0)\n"
   ]
  },
  {
   "cell_type": "markdown",
   "id": "8d99382b-43b7-4375-8825-4b7d267b6dac",
   "metadata": {
    "deletable": false,
    "editable": false
   },
   "source": [
    "## Section 2: Implementing MLP from scratch with training algorithms."
   ]
  },
  {
   "cell_type": "markdown",
   "id": "5864b18e-cf2e-4da6-a3df-20b8bd84633f",
   "metadata": {
    "deletable": false,
    "editable": false
   },
   "source": [
    "Now we will implement code to build a customizable MLP model. The hidden layers will have the **Relu activation function** and the final output layer will have **Sigmoid activation function**."
   ]
  },
  {
   "cell_type": "markdown",
   "id": "3247c43d-7e37-4e72-9232-5e01898c39a8",
   "metadata": {
    "deletable": false,
    "editable": false
   },
   "source": [
    "**Q5.** Recall the following about the activation functions:\n",
    "1. Sigmoid activation: $y = \\sigma(z) = \\frac{1}{1 + e^{-z}}$.\n",
    "2. Derivative of Sigmoid: $y' = \\sigma'(z) = \\sigma(z) (1 - \\sigma(z)) = y(1-y)$\n",
    "3. ReLu activation: $y = ReLu(z) = max(0, z)$\n",
    "4. Derivative of ReLu: $y' = ReLu'(z) = \\begin{cases} 0 \\; \\textrm{if } z < 0 \\\\ 1 \\; \\textrm{otherwise} \\end{cases} = \\begin{cases} 0 \\; \\textrm{if } y = 0 \\\\ 1 \\; \\textrm{otherwise} \\end{cases}$\n",
    "\n",
    "In the following cell implement the functions to compute activation functions Sigmoid and ReLu given $z$ and derivatives of the Sigmoid and ReLu activation functions given $y$. Note that the input to the derivative functions is $y$ not $z$.\n",
    "\n",
    "In practice the input will not be just single numbers, but matrices. So functions or derivatives should be applied elementwise on matrices. Again avoid for loops, use the power of numpy arrays - search for numpy's capability of doing elementwise computations.\n",
    "\n",
    "Important: When implementing the sigmoid function make sure you handle overflows due to $e^{-z}$ being too large. To avoid you can choose to set the sigmoid value to 'the certain appropriate value' if $z$ is less than a certain good enough negative threshold. If you do not handle overflows, the entire result will be useless fince the MLP will just output Nan (not a number) for evry input at the end."
   ]
  },
  {
   "cell_type": "code",
   "execution_count": 32,
   "id": "ac42dde5-2b7d-4fc2-a5bc-4d396822e995",
   "metadata": {
    "ExecuteTime": {
     "end_time": "2024-09-17T17:37:08.323496Z",
     "start_time": "2024-09-17T17:37:08.317427Z"
    }
   },
   "outputs": [],
   "source": [
    "def sigmoid(Z):\n",
    "    c = np.clip(Z, -500, 500)\n",
    "    sigma = 1/(1 + np.exp(-c))\n",
    "\n",
    "    return(sigma)\n",
    "\n",
    "def deriv_sigmoid(Y):\n",
    "    sigma_prime = Y * (1 - Y)\n",
    "    return(sigma_prime)\n",
    "\n",
    "def ReLu(Z):\n",
    "    relu = np.where(Z < 0, 0 , Z)\n",
    "\n",
    "    return(relu)\n",
    "\n",
    "def deriv_ReLu(Y):\n",
    "    relu_prime = np.where(Y == 0 , 0, 1)\n",
    "\n",
    "    return(relu_prime)"
   ]
  },
  {
   "cell_type": "markdown",
   "id": "88ca012e-5c82-4689-8170-28f6110cc9b5",
   "metadata": {},
   "source": [
    "**Q6.** The following piece of code defines a simple MLP architecture as a Python class and subsequent initialization of a MLP model. <font color='blue'>Certain lines of code contains commented line numbers. Write a short sentence for each such line explaining its purpose. Feel free to refer to the lecture notes or any resources to answers these question. In addition, explain what the Y, Z, W variables refer to and their purpose</font>"
   ]
  },
  {
   "cell_type": "code",
   "execution_count": 33,
   "id": "7985eb85-6a89-4d01-b6cf-d58cb8b4d23f",
   "metadata": {
    "ExecuteTime": {
     "end_time": "2024-09-17T17:37:15.111451Z",
     "start_time": "2024-09-17T17:37:15.106372Z"
    }
   },
   "outputs": [],
   "source": [
    "class NNet:\n",
    "    def __init__(self, input_size = 784, output_size = 1, batch_size = 1000, hidden_layers = [500, 250, 50]):\n",
    "        self.Y = []\n",
    "        self.Z = []\n",
    "        self.W = []\n",
    "        self.input_size = input_size\n",
    "        self.output_size = output_size\n",
    "        self.batch_size = batch_size\n",
    "        self.hidden_layers = hidden_layers\n",
    "\n",
    "        layers = [input_size] + hidden_layers + [output_size]\n",
    "        L = len(hidden_layers) + 1\n",
    "    \n",
    "        for i in range(1, L + 1):\n",
    "            self.Y.append(np.zeros((layers[i], batch_size)))                        #line1\n",
    "            self.Z.append(np.zeros((layers[i], batch_size)))                        #Line2\n",
    "            self.W.append(2*(np.random.rand(layers[i], layers[i-1] + 1) - 0.5))     #Line3"
   ]
  },
  {
   "cell_type": "markdown",
   "id": "7854a0e4-9b83-4f52-8b59-3e64af141209",
   "metadata": {},
   "source": [
    "**Answers** \n",
    "\n",
    "(i) What does the Y, Z, W variables refer to and their purpose?\n",
    "\n",
    "<font color = green>\n",
    "\n",
    "- Y is a list that contains the outputs from each layer in the neural network, tracking all the output matrices throughout the network.\n",
    "\n",
    "- Z is a list that consists of matrices computed by multiplying the input matrix with the weight matrix for each layer.\n",
    "\n",
    "- W is a list that holds the weight matrices for each layer, continuously tracking the weight matrices of the neural network.\n",
    "\n",
    "</font>\n",
    "\n",
    "(ii) Line1: Explanation\n",
    "\n",
    "<font color = green>\n",
    "\n",
    "- Initialize the output matrices for each layer with matrices filled with zeros.\n",
    "\n",
    "</font>\n",
    "\n",
    "(iii) Line2: Explanation\n",
    "\n",
    "<font color = green>\n",
    "\n",
    "- Initialize each Z matrix for every layer with matrices filled with zeros.\n",
    "\n",
    "</font>\n",
    "\n",
    "(iv) Line3: Explanation\n",
    "\n",
    "<font color = green>\n",
    "\n",
    "- Initialize each weight matrix for every layer with random values between -1 and 1.\n",
    "\n",
    "</font>\n"
   ]
  },
  {
   "cell_type": "markdown",
   "id": "7ee71406-c0f7-4114-9d9c-bf25fe6d208a",
   "metadata": {
    "deletable": false,
    "editable": false
   },
   "source": [
    "**Q7.** Now we will implement the feedforward algorithm. Recall from the lectures that for each layer $l$ there is input $Y^{(l-1)}$ from the previous layer if $l > 1$ and input data $X$ if $l = 1$. Then we compute $Z^{(l)}$ using the weight matrix $W^{(l)}$ as follows from matrix multiplication:\n",
    "\n",
    "$Z^{(l)} = W^{(l)} Y^{(l-1)}$\n",
    "\n",
    "Make sure that during multiplication you add an additional row of one's to $Y^{(l-1)}$ to accommodate the bias term. However, the rows of ones should not permanently remain on $Y^{(l-1)}$. <font color='blue'>Explain what the bias term is and how adding a row of one's help with the bias terms.</font> During definition above the weight matrices are initialised to afford this extra bias term, so no change to either $Z^{(l)}$ or $W^{(l)}$ is needed.\n",
    "\n",
    "Next compute $Y^{(l)}$, the output of layer $l$ by activation through sigmoid.\n",
    "\n",
    "$Y^{(l)} = \\sigma(Z^{(l)})$\n",
    "\n",
    "The implemented feedforward algorithm should take in a NNet model and an input matrix $X$ and output the modified MLP model - the $Y$'s and $Z$'s computed should be stored in the model for the backpropagation algorithm.\n",
    "\n",
    "As usual avoid for loops as much as possible, use the power of numpy. However, you may use a for loop to iterate through the layers of the model."
   ]
  },
  {
   "cell_type": "code",
   "execution_count": 34,
   "id": "c41a778a-0d06-4295-ac80-3ea6bfbad9f0",
   "metadata": {
    "ExecuteTime": {
     "end_time": "2024-09-17T17:37:26.539715Z",
     "start_time": "2024-09-17T17:37:26.534665Z"
    }
   },
   "outputs": [],
   "source": [
    "def feedforward(model, X):\n",
    "\n",
    "    # number of layers in the model\n",
    "    total_layers = len(model.hidden_layers) + 1\n",
    "\n",
    "    # Initialize the input\n",
    "    current_activations = X\n",
    "\n",
    "    if current_activations.ndim == 1:\n",
    "        current_activations = current_activations.reshape(-1, 1)\n",
    "\n",
    "    # Process each layer in the network\n",
    "    for layer_idx in range(total_layers):\n",
    "        bias_row = np.ones((1, current_activations.shape[1]))\n",
    "        current_activations = np.vstack([current_activations, bias_row])\n",
    "\n",
    "        model.Z[layer_idx] = model.W[layer_idx] @ current_activations\n",
    "\n",
    "        if layer_idx == total_layers - 1:\n",
    "            model.Y[layer_idx] = sigmoid(model.Z[layer_idx])\n",
    "        else:\n",
    "            model.Y[layer_idx] = ReLu(model.Z[layer_idx])\n",
    "\n",
    "        current_activations = model.Y[layer_idx]\n",
    "\n",
    "    return model\n"
   ]
  },
  {
   "cell_type": "markdown",
   "id": "cbeea889-4e78-4bfc-b126-6d5d11ea571e",
   "metadata": {
    "deletable": false,
    "editable": false
   },
   "source": [
    "**Answer** (to write answers edit this cell)\n",
    "\n",
    "Explain what the bias term is and how adding a row of one's help with the bias terms.\n",
    "\n",
    "<font color = green>\n",
    "\n",
    "- The bias term allows the model to learn more complex patterns in the dataset by shifting the activation function.\n",
    "- It also enables the model to adjust its outputs without being directly influenced by the input data.\n",
    "\n",
    "</font>\n",
    "\n"
   ]
  },
  {
   "cell_type": "markdown",
   "id": "f5b4c037-df9a-49eb-9519-51b86555b33c",
   "metadata": {
    "deletable": false,
    "editable": false
   },
   "source": [
    "**Q8.** Now we will implement the backpropagation algorithm. The cost function $C$ at the end is given by the square loss.\n",
    "\n",
    "$C = \\frac{1}{2} ||Y^{(L)} - Y||^{2}$, where $Y^{(L)}$ is the final output vector of the feedforward algorithm and $Y$ is the actual label vector associated with the input $X$.\n",
    "\n",
    "At each layer $l = 1, 2, \\cdots, L$ we compute the following (note that the gradients are matrices with the same dimensions as the variable to which we derivating with respect to):\n",
    "\n",
    "1. Gradient of $C$ with respect to $Z^{(l)}$ as <br> $\\frac{\\partial C}{\\partial Z^{(l)}} = deriv(A^{(l)}(Z^{(l)})) \\odot \\frac{\\partial C}{\\partial Y^{(L)}} $, <br> where $A^{(l)}$ is the activation function of the $l$th layer, and we use the derivative of that here. The $\\odot$ refers to the elementwise multiplication.\n",
    "\n",
    "2. Gradient of $C$ with respect to $W^{(l)}$ as <br> $\\frac{\\partial C}{\\partial W^{(l)}} = \\frac{\\partial C}{\\partial Z^{(l)}} (Y^{(l-1)})^{T}$ <br> this is entirely matrix multiplication.\n",
    "\n",
    "3. Gradient of $C$ with respect to $Y^{(l-1)}$ as <br> $\\frac{\\partial C}{\\partial Y^{(l-1)}} = (W^{(l)})^{T} \\frac{\\partial C}{\\partial Z^{(l)}}$ <br> this is also entirely matrix multiplication.\n",
    "\n",
    "4. Update weights by: <br> $W^{(l)} \\leftarrow W^{(l)} - \\eta \\frac{\\partial C}{\\partial W^{(l)}}$, <br> where $\\eta > 0$ is the learning rate.\n",
    "\n",
    "The loss derivative (the gradient of $C$ with respect to $Y^{(L)}$) at the last layer is given by:\n",
    "\n",
    "$\\frac{\\partial C}{\\partial Y^{(L)}} = Y^{(L)} - Y$\n",
    "\n",
    "By convention we consider $Y^{(0)} = X$, the input data.\n",
    "\n",
    "Based on the backpropagation algorithm implement the backpropagation method in the following cell. Remember to temporarily add a row of ones to $Y^{(l-1)}$ when computing $\\frac{\\partial C}{\\partial W^{(l)}}$ as we discussed back in the feedforward algorithm. Make sure you avoid for loops as much as possible.\n",
    "\n",
    "The function takes in a NNet model, input data $X$ and the corresponding class labels $Y$. learning rate can be set as desired."
   ]
  },
  {
   "cell_type": "code",
   "execution_count": 57,
   "id": "d958af3f-5a72-462d-844f-aba8ce5b03c8",
   "metadata": {
    "ExecuteTime": {
     "end_time": "2024-09-17T18:07:50.745113Z",
     "start_time": "2024-09-17T18:07:50.738855Z"
    }
   },
   "outputs": [],
   "source": [
    "def backpropagation(model, X, Y, eta = 0.01):\n",
    "\n",
    "    # Compute the derivative of the loss w.r.t the final output\n",
    "    loss_derivative = model.Y[-1] - Y\n",
    "\n",
    "    total_layers = len(model.hidden_layers)\n",
    "    for layer_idx in range(total_layers, -1, -1):\n",
    "\n",
    "        if layer_idx == total_layers:\n",
    "            dL_dZ = deriv_sigmoid(model.Y[layer_idx]) * loss_derivative\n",
    "        else:\n",
    "            dL_dZ = deriv_ReLu(model.Y[layer_idx]) * loss_derivative\n",
    "\n",
    "        if layer_idx == 0:\n",
    "            prev_activations = X\n",
    "            if prev_activations.ndim == 1:\n",
    "                prev_activations = prev_activations.reshape(-1, 1)\n",
    "\n",
    "        else:\n",
    "            prev_activations = model.Y[layer_idx - 1]\n",
    "\n",
    "        bias_row = np.ones((1, prev_activations.shape[1]))\n",
    "        prev_activations = np.vstack([prev_activations, bias_row])\n",
    "\n",
    "        dL_dW = dL_dZ @ prev_activations.T\n",
    "\n",
    "        loss_derivative = model.W[layer_idx].T @ dL_dZ\n",
    "        loss_derivative = loss_derivative[:-1, :]\n",
    "\n",
    "        model.W[layer_idx] -= eta * dL_dW\n",
    "\n",
    "    return model\n"
   ]
  },
  {
   "cell_type": "markdown",
   "id": "a2fad553-1ba4-4bee-b04b-249b9e04c6a9",
   "metadata": {
    "deletable": false,
    "editable": false
   },
   "source": [
    "**Q9.** Now implement the training algorithm.\n",
    "\n",
    "The training method takes in training data $X$, actual label $Y$, number of epochs, batch_size, learning rate $\\eta > 0$. The training will happen in epochs. For each epoch, permute the data columns of both $X$ and $Y$, then divide both $X$ and $Y$ into mini batches each with the given batch size. Then run the feedforward and backpropagation for each such batch iteratively.\n",
    "\n",
    "At the end of each iteration, keep trach of the cost $C$ and the $l_2$-norm of change in each weight matrix $W^{(l)}$.\n",
    "\n",
    "At the end of the last epoch, plot the variation cost $C$ and change in weight matrices. Then return the trained model.\n",
    "\n"
   ]
  },
  {
   "cell_type": "code",
   "execution_count": 58,
   "id": "fa4070ea-4a6b-4cba-b882-fa2ea79a9247",
   "metadata": {
    "ExecuteTime": {
     "end_time": "2024-09-17T18:09:21.775225Z",
     "start_time": "2024-09-17T18:08:03.956699Z"
    }
   },
   "outputs": [
    {
     "name": "stderr",
     "output_type": "stream",
     "text": [
      "Training: 100%|██████████| 100/100 [01:17<00:00,  1.29epoch/s, Epoch=100, Average Loss=4.67]\n"
     ]
    },
    {
     "data": {
      "image/png": "[encoded data removed]",
      "text/plain": [
       "<Figure size 1000x800 with 2 Axes>"
      ]
     },
     "metadata": {},
     "output_type": "display_data"
    }
   ],
   "source": [
    "def train_NNet(X, Y, epochs = 20, batch_size = 1000, eta = 0.01):\n",
    "\n",
    "    loss_history = []\n",
    "    weight_change_history = []\n",
    "\n",
    "    network_model = NNet(input_size = X.shape[0], output_size = 1, batch_size = batch_size)\n",
    "\n",
    "    progress_bar = tqdm(range(epochs), desc=\"Training\", unit=\"epoch\")\n",
    "    for epoch in progress_bar:\n",
    "\n",
    "        shuffled_indices = np.random.permutation(X.shape[1])\n",
    "        X_shuffled = X[:, shuffled_indices]\n",
    "        Y_shuffled = Y[shuffled_indices]\n",
    "\n",
    "        num_batches = X.shape[1] // batch_size\n",
    "\n",
    "        batch_losses = np.array([])\n",
    "        weight_change_epoch = 0\n",
    "        for batch in range(num_batches):\n",
    "\n",
    "            start_index = batch * batch_size\n",
    "            end_index = min(start_index + batch_size, X.shape[1])\n",
    "\n",
    "            X_batch = X_shuffled[:, start_index:end_index]\n",
    "            Y_batch = Y_shuffled[start_index:end_index]\n",
    "\n",
    "            network_model = feedforward(network_model, X_batch)\n",
    "            previous_weights = network_model.W.copy()\n",
    "            network_model = backpropagation(network_model, X_batch, Y_batch, eta)\n",
    "\n",
    "            for layer in range(len(network_model.W)):\n",
    "                weight_change_epoch += np.linalg.norm(network_model.W[layer] - previous_weights[layer])\n",
    "\n",
    "            loss = 0.5 * (np.linalg.norm(network_model.Y[-1] - Y_batch) ** 2)\n",
    "            batch_losses = np.append(batch_losses, loss)\n",
    "\n",
    "        weight_change_history.append(weight_change_epoch / num_batches)\n",
    "\n",
    "        average_loss = np.mean(batch_losses)\n",
    "        loss_history.append(average_loss)\n",
    "\n",
    "        progress_bar.set_postfix({\"Epoch\": epoch + 1, \"Average Loss\": average_loss})\n",
    "\n",
    "    fig, (loss_plot, weight_change_plot) = plt.subplots(2, 1, figsize=(10, 8))\n",
    "\n",
    "    loss_plot.plot(loss_history, label='Average Training Loss', color='b')\n",
    "\n",
    "    loss_plot.set_title('Loss During Training')\n",
    "    loss_plot.set_xlabel('Epoch Number')\n",
    "    loss_plot.set_ylabel('Loss Value')\n",
    "    loss_plot.legend(loc='upper left')\n",
    "    loss_plot.grid(True, linestyle='-', alpha=0.5)\n",
    "\n",
    "\n",
    "    weight_change_plot.plot(weight_change_history, label='Average Weight Change', color='r')\n",
    "\n",
    "    weight_change_plot.set_title('Weight Change During Training')\n",
    "    weight_change_plot.set_xlabel('Number of Epochs')\n",
    "    weight_change_plot.set_ylabel('Change in Weights (L2 Norm)')\n",
    "    weight_change_plot.legend(loc='upper right')\n",
    "    weight_change_plot.grid(True, linestyle='--', alpha=0.7)\n",
    "\n",
    "    plt.tight_layout()\n",
    "    plt.show()\n",
    "\n",
    "    return network_model\n",
    "\n",
    "model = train_NNet(train_X_1_5, train_class_1_5, epochs= 100, eta = 0.001)\n"
   ]
  },
  {
   "cell_type": "markdown",
   "id": "2cd20299-a129-4d1d-a406-84e1a4dba621",
   "metadata": {
    "deletable": false,
    "editable": false
   },
   "source": [
    "## Section 3: Evaluation using test data"
   ]
  },
  {
   "cell_type": "markdown",
   "id": "d954c37c-f1b7-4e87-aedd-cf9e7624f612",
   "metadata": {
    "deletable": false,
    "editable": false
   },
   "source": [
    "The following function will evaluate then return an accuracy score and the predicted labels for your model. Do not change anything here."
   ]
  },
  {
   "cell_type": "code",
   "execution_count": 59,
   "id": "977dcbb8-1b5c-4f49-89f6-9bd90833957b",
   "metadata": {
    "ExecuteTime": {
     "end_time": "2024-09-17T18:09:44.450352Z",
     "start_time": "2024-09-17T18:09:44.444986Z"
    }
   },
   "outputs": [],
   "source": [
    "def test_model(test_data, test_labels, model, d1, d2):\n",
    "    \n",
    "    L = len(model.hidden_layers) + 1\n",
    "    \n",
    "    Y = test_data\n",
    "    for i in range(L):\n",
    "        Z = np.matmul(model.W[i], np.append(Y, np.array([np.ones(Y.shape[1])]), axis = 0))\n",
    "        if i < L - 1:\n",
    "            Y = ReLu(Z)\n",
    "        else:\n",
    "            Y = sigmoid(Z)\n",
    "    \n",
    "    Y = Y[0]\n",
    "    Y = np.where(Y >= 0.5, 1, 0)\n",
    "    Y_predicted = np.where(Y == 0, d1, d2)\n",
    "\n",
    "    acc = accuracy_score(test_labels, Y_predicted)\n",
    "\n",
    "    return(acc, Y_predicted)\n",
    "\n",
    "    "
   ]
  },
  {
   "cell_type": "markdown",
   "id": "ab6f1db0-8f5f-442c-84f1-578c77b99537",
   "metadata": {
    "deletable": false,
    "editable": false
   },
   "source": [
    "**Q10.** Use this test_model function to evaluate your model with the $1$ and $5$ digits. An accuracy $>= 99%$ is achievable. Test with different batch sizes, $\\eta$ values and hidden layers. Find which of those hyperparameters gives the best test accuracy. <font color='blue'>Document the hyperparameter values that gives the best testing accuracy and that best accuracy. Plot a confusion matrix and comment on your observations with reasons. Also, look into the nature of the plots that result fom the training procedure, see how they vary with the hyperparameters and provide your ideas on the observations. Then do the same with a few other pairs of digits $d_1, d_2$. Especially, try $d_1 = 1, d_2 = 7$. Comment on your observations and explain possible reasons</font>."
   ]
  },
  {
   "cell_type": "code",
   "execution_count": 60,
   "id": "b0561199-92cc-4344-8509-c8ab798c33ab",
   "metadata": {
    "ExecuteTime": {
     "end_time": "2024-09-17T18:09:49.871462Z",
     "start_time": "2024-09-17T18:09:49.818599Z"
    }
   },
   "outputs": [
    {
     "data": {
      "text/plain": [
       "(array([1, 5]), array([1131,  896], dtype=int64))"
      ]
     },
     "execution_count": 60,
     "metadata": {},
     "output_type": "execute_result"
    }
   ],
   "source": [
    "acc, Y_predicted = test_model(test_X_1_5, test_class_1_5, model, 1, 5)\n",
    "np.unique(Y_predicted, return_counts=True)"
   ]
  },
  {
   "cell_type": "code",
   "id": "7863d1314243985c",
   "metadata": {
    "ExecuteTime": {
     "end_time": "2024-09-17T18:14:59.321207Z",
     "start_time": "2024-09-17T18:14:59.149585Z"
    }
   },
   "source": [
    "conf_matrix = confusion_matrix(y_true=test_y_1_5, y_pred=Y_predicted)\n",
    "\n",
    "conf_matrix_df = pd.DataFrame(conf_matrix, index=['Label 0', 'Label 1'], columns=['Label 0', 'Label 1'])\n",
    "\n",
    "# Plot the confusion matrix\n",
    "plt.figure(figsize=(10, 8))\n",
    "sns.heatmap(conf_matrix_df, annot=True, fmt='d', cmap='magma', cbar=False,\n",
    "            xticklabels=['Label 0', 'Label 1'], yticklabels=['Label 0', 'Label 1'])\n",
    "plt.title('Confusion Matrix Visualization')\n",
    "plt.xlabel('Predicted Class')\n",
    "plt.ylabel('Actual Class')\n",
    "plt.show()\n"
   ],
   "outputs": [
    {
     "data": {
      "text/plain": [
       "<Figure size 1000x800 with 1 Axes>"
      ],
      "image/png": "[encoded data removed]"
     },
     "metadata": {},
     "output_type": "display_data"
    }
   ],
   "execution_count": 64
  },
  {
   "cell_type": "code",
   "execution_count": null,
   "id": "13ed023766611464",
   "metadata": {},
   "outputs": [],
   "source": []
  }
 ],
 "metadata": {
  "kernelspec": {
   "display_name": "Python 3 (ipykernel)",
   "language": "python",
   "name": "python3"
  },
  "language_info": {
   "codemirror_mode": {
    "name": "ipython",
    "version": 3
   },
   "file_extension": ".py",
   "mimetype": "text/x-python",
   "name": "python",
   "nbconvert_exporter": "python",
   "pygments_lexer": "ipython3",
   "version": "3.12.4"
  }
 },
 "nbformat": 4,
 "nbformat_minor": 5
}
